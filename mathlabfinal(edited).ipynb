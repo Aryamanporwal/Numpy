{
 "cells": [
  {
   "cell_type": "code",
   "execution_count": 2,
   "id": "561a4789-d411-4cdf-bd8b-d0a6de2cf7c4",
   "metadata": {},
   "outputs": [],
   "source": [
    "import numpy as np\n",
    "import matplotlib.pyplot as plt\n",
    "%matplotlib inline\n",
    "%config InlineBackend.figure_format = 'retina'"
   ]
  },
  {
   "cell_type": "markdown",
   "id": "4876ea55-1999-4db6-8c8d-de8de1b9a710",
   "metadata": {},
   "source": [
    "# Creating Arrays"
   ]
  },
  {
   "cell_type": "code",
   "execution_count": 3,
   "id": "543cb11c-0a8f-4c32-abfe-27c100be638c",
   "metadata": {},
   "outputs": [
    {
     "data": {
      "text/plain": [
       "'Creating Arrays\\n1. Create a 1D array with 20 random integers between 1 and 100.\\nHint: Use the np.random.randint() function, specifying the range and size.\\n\\n2. Create a 5x5 matrix where all the border elements are 1, and the inside elements are 0.\\n3. Create a diagonal matrix with values [1, 2, 3, 4] on the diagonal.\\n4. Create an array of shape (3, 3) where each row contains numbers from 1 to 3.\\nHint: Use np.tile() to repeat arrays along rows or columns.\\n\\n5. Create a 1D array with alternating 0s and 1s of length 10.\\n6. Create a 3x3 matrix with random integers between 10 and 20, and set the datatype to int32.'"
      ]
     },
     "execution_count": 3,
     "metadata": {},
     "output_type": "execute_result"
    }
   ],
   "source": [
    "\"\"\"Creating Arrays\n",
    "1. Create a 1D array with 20 random integers between 1 and 100.\n",
    "Hint: Use the np.random.randint() function, specifying the range and size.\n",
    "\n",
    "2. Create a 5x5 matrix where all the border elements are 1, and the inside elements are 0.\n",
    "3. Create a diagonal matrix with values [1, 2, 3, 4] on the diagonal.\n",
    "4. Create an array of shape (3, 3) where each row contains numbers from 1 to 3.\n",
    "Hint: Use np.tile() to repeat arrays along rows or columns.\n",
    "\n",
    "5. Create a 1D array with alternating 0s and 1s of length 10.\n",
    "6. Create a 3x3 matrix with random integers between 10 and 20, and set the datatype to int32.\"\"\""
   ]
  },
  {
   "cell_type": "code",
   "execution_count": 4,
   "id": "a9957251-5af2-4588-aa49-ec81ff2e440f",
   "metadata": {},
   "outputs": [
    {
     "name": "stdout",
     "output_type": "stream",
     "text": [
      "[76 74 26 99 30 96 79 58 28 56 37 39 61 93 11 34 86 76 46 73]\n"
     ]
    }
   ],
   "source": [
    "# Ques 1 ->\n",
    "random_arr = np.random.randint(0, 101, 20)\n",
    "print(random_arr)"
   ]
  },
  {
   "cell_type": "code",
   "execution_count": 5,
   "id": "1e20ced3-729c-4e36-983f-00e4958d1058",
   "metadata": {},
   "outputs": [
    {
     "name": "stdout",
     "output_type": "stream",
     "text": [
      "[[1. 1. 1. 1. 1.]\n",
      " [1. 0. 0. 0. 1.]\n",
      " [1. 0. 0. 0. 1.]\n",
      " [1. 0. 0. 0. 1.]\n",
      " [1. 1. 1. 1. 1.]]\n"
     ]
    }
   ],
   "source": [
    "# Ques 2 ->\n",
    "border_arr = np.ones((5, 5))\n",
    "border_arr[1:-1, 1:-1] = 0 # making the inner element zero(0) \n",
    "print(border_arr)"
   ]
  },
  {
   "cell_type": "code",
   "execution_count": 6,
   "id": "5b9bb600-d17e-4038-8ba0-5c565aa83006",
   "metadata": {},
   "outputs": [
    {
     "name": "stdout",
     "output_type": "stream",
     "text": [
      "[[1 0 0 0]\n",
      " [0 2 0 0]\n",
      " [0 0 3 0]\n",
      " [0 0 0 4]]\n"
     ]
    }
   ],
   "source": [
    "# Ques 3 ->\n",
    "diag_elem = [1, 2, 3, 4]\n",
    "diagonal_arr = np.array(diag_elem)\n",
    "diagonal_martix = np.diag(diagonal_arr)\n",
    "print(diagonal_martix)"
   ]
  },
  {
   "cell_type": "code",
   "execution_count": 7,
   "id": "f6ff9a6c-7f68-427b-a250-cc82155b729a",
   "metadata": {},
   "outputs": [
    {
     "name": "stdout",
     "output_type": "stream",
     "text": [
      "[[1 2 3]\n",
      " [1 2 3]\n",
      " [1 2 3]]\n"
     ]
    }
   ],
   "source": [
    "# Ques 4 ->\n",
    "values = np.array([1, 2, 3])\n",
    "array = np.tile(values, (3, 1)) # if ndim < then it makes (_first,_) _first automatically repeat \n",
    "print(array)"
   ]
  },
  {
   "cell_type": "code",
   "execution_count": 8,
   "id": "08e6ff3d-4ca6-4b0f-a948-6ad20cf7581c",
   "metadata": {},
   "outputs": [
    {
     "name": "stdout",
     "output_type": "stream",
     "text": [
      "[0 1 0 1 0 1 0 1 0 1]\n"
     ]
    }
   ],
   "source": [
    "# Ques 5 \n",
    "array = np.tile([0, 1], 5) # repeating the array [0,1], 5 times\n",
    "print(array)"
   ]
  },
  {
   "cell_type": "code",
   "execution_count": 9,
   "id": "557e3f8e-f84e-41b0-86c8-7ac2a5fff5a3",
   "metadata": {},
   "outputs": [
    {
     "name": "stdout",
     "output_type": "stream",
     "text": [
      "[76 74 26 99 30 96 79 58 28 56 37 39 61 93 11 34 86 76 46 73]\n"
     ]
    }
   ],
   "source": [
    "# Ques 6\n",
    "raandom_arr = np.random.randint(10, 21, (3, 3), dtype = np.int32) # (low, high, size, data_type)\n",
    "print(random_arr)"
   ]
  },
  {
   "cell_type": "markdown",
   "id": "78cbeab4-d555-416b-bb9d-3d5a0339fc17",
   "metadata": {},
   "source": [
    "# Array Attributes"
   ]
  },
  {
   "cell_type": "code",
   "execution_count": 10,
   "id": "f9db0dd9-b186-434a-99cb-cdf9f2ca6f72",
   "metadata": {},
   "outputs": [
    {
     "data": {
      "text/plain": [
       "'Array Attributes\\n1. Create a NumPy array of shape (4, 5) filled with random integers between 1 and 10. Now use an appropriate attribute of an array and find the following:\\nshape of the array\\nsize of the array\\nnumber of dimensions\\ndata type\\n2. Write a Python function that takes an array as input and returns the number of dimensions (ndim) of the array.\\nTest the function with the following arrays:\\n\\nA 1D array with 5 elements.\\nA 2D array of size (3x4).\\nA 3D array of size (2x3x4).\\n3. Create a NumPy array with the elements between 1 to 100 and use the dtype attribute to find out the data type of the elements. Modify the program to create arrays with elements of type float and string, and observe the changes in dtype.\\n4. Write a Python function that:\\nCreates a 6×3 array of integers using NumPy.\\nPrints the shape of the array using the shape attribute.\\nReshapes the array to 3×6 and prints the new shape.\\n5. Write a program to:\\nCreate an array of any size with all elements being 0 and use the appropriate attribute to print the size (in bytes) of each element in the array.\\nCreate an array of any size with elements between 1 to 10 and print the size.\\nCreate another array with floating-point numbers of any size and observe how the size changes.'"
      ]
     },
     "execution_count": 10,
     "metadata": {},
     "output_type": "execute_result"
    }
   ],
   "source": [
    "\"\"\"Array Attributes\n",
    "1. Create a NumPy array of shape (4, 5) filled with random integers between 1 and 10. Now use an appropriate attribute of an array and find the following:\n",
    "shape of the array\n",
    "size of the array\n",
    "number of dimensions\n",
    "data type\n",
    "2. Write a Python function that takes an array as input and returns the number of dimensions (ndim) of the array.\n",
    "Test the function with the following arrays:\n",
    "\n",
    "A 1D array with 5 elements.\n",
    "A 2D array of size (3x4).\n",
    "A 3D array of size (2x3x4).\n",
    "3. Create a NumPy array with the elements between 1 to 100 and use the dtype attribute to find out the data type of the elements. Modify the program to create arrays with elements of type float and string, and observe the changes in dtype.\n",
    "4. Write a Python function that:\n",
    "Creates a 6×3 array of integers using NumPy.\n",
    "Prints the shape of the array using the shape attribute.\n",
    "Reshapes the array to 3×6 and prints the new shape.\n",
    "5. Write a program to:\n",
    "Create an array of any size with all elements being 0 and use the appropriate attribute to print the size (in bytes) of each element in the array.\n",
    "Create an array of any size with elements between 1 to 10 and print the size.\n",
    "Create another array with floating-point numbers of any size and observe how the size changes.\"\"\""
   ]
  },
  {
   "cell_type": "code",
   "execution_count": 11,
   "id": "27c44b50-d683-4ecd-8684-ab0204c76dfb",
   "metadata": {},
   "outputs": [
    {
     "name": "stdout",
     "output_type": "stream",
     "text": [
      "Shape of the array : (4, 5)\n",
      "Size of the array : 20\n",
      "Dimensions of the array : 2\n",
      "Data Type of the array : int32\n"
     ]
    }
   ],
   "source": [
    "# Ques 1\n",
    "random_arr = np.random.randint(low=1, high=11, size=(4, 5))\n",
    "print(\"Shape of the array :\", random_arr.shape)\n",
    "print(\"Size of the array :\", random_arr.size)\n",
    "print(\"Dimensions of the array :\", random_arr.ndim)\n",
    "print(\"Data Type of the array :\", random_arr.dtype)\n"
   ]
  },
  {
   "cell_type": "code",
   "execution_count": 12,
   "id": "03742560-1874-4b6c-9aa1-de98a9438c35",
   "metadata": {},
   "outputs": [
    {
     "name": "stdout",
     "output_type": "stream",
     "text": [
      "1D Array dimensions: 1\n",
      "2D Array dimensions: 2\n",
      "3D Array dimensions: 3\n"
     ]
    }
   ],
   "source": [
    "# Ques 2\n",
    "def get_array_dimensions(array):\n",
    "    return array.ndim # return dimensions \n",
    "    \n",
    "# 1D array with 5 elements\n",
    "array_1d = np.random.rand(5)\n",
    "print(f\"1D Array dimensions: {get_array_dimensions(array_1d)}\")  # Expected: 1\n",
    "\n",
    "# 2D array of size (3x4)\n",
    "array_2d = np.random.rand(3, 4)\n",
    "print(f\"2D Array dimensions: {get_array_dimensions(array_2d)}\")  # Expected: 2\n",
    "\n",
    "# 3D array of size (2x3x4)\n",
    "array_3d = np.random.rand(2, 3, 4)\n",
    "print(f\"3D Array dimensions: {get_array_dimensions(array_3d)}\")  # Expected: 3"
   ]
  },
  {
   "cell_type": "code",
   "execution_count": 30,
   "id": "33e75f04-f341-4ed5-b650-c77c19a9e166",
   "metadata": {},
   "outputs": [
    {
     "name": "stdout",
     "output_type": "stream",
     "text": [
      "Data Type of Random Integer Array: int32 \n",
      "\n",
      "Data Type of Random Float Array: float64 \n",
      "\n",
      "Data Type of Random String Array: <U11 \n",
      "\n"
     ]
    }
   ],
   "source": [
    "# Ques 3 \n",
    "\n",
    "# a random array with elements between 1 and 100\n",
    "array_random_int = np.random.randint(1, 101, size=20)\n",
    "print(f\"Data Type of Random Integer Array: {array_random_int.dtype} \\n\")  # Expected: int32 or int64\n",
    "\n",
    "# type to float\n",
    "array_random_float = array_random_int.astype(float)\n",
    "print(f\"Data Type of Random Float Array: {array_random_float.dtype} \\n\")  # Expected: float64\n",
    "\n",
    "# type to string\n",
    "array_random_string = array_random_int.astype(str)\n",
    "print(f\"Data Type of Random String Array: {array_random_string.dtype} \\n\")  # Expected: <U*\n"
   ]
  },
  {
   "cell_type": "code",
   "execution_count": 34,
   "id": "889b31e5-a323-4bdc-80d8-33cdcce4b70b",
   "metadata": {},
   "outputs": [
    {
     "name": "stdout",
     "output_type": "stream",
     "text": [
      "Data Type of Integer Array: int64\n",
      "Data Type of Float Array: float64\n",
      "Data Type of String Array: <U21\n"
     ]
    }
   ],
   "source": [
    "# Ques 3 (OR)\n",
    "\n",
    "# Array with integers from 1 to 100\n",
    "array_int = np.arange(1, 101)\n",
    "print(f\"Data Type of Integer Array: {array_int.dtype}\")\n",
    "\n",
    "# Array with elements converted to float\n",
    "array_float = array_int.astype(float)\n",
    "print(f\"Data Type of Float Array: {array_float.dtype}\")\n",
    "\n",
    "# Array with elements converted to string\n",
    "array_string = array_int.astype(str)\n",
    "print(f\"Data Type of String Array: {array_string.dtype}\") "
   ]
  },
  {
   "cell_type": "code",
   "execution_count": 40,
   "id": "785b0bfa-28d6-4a43-8371-940e0285ce0f",
   "metadata": {},
   "outputs": [
    {
     "name": "stdout",
     "output_type": "stream",
     "text": [
      "Original shape: (6, 3)\n",
      "Reshaped shape: (3, 6)\n"
     ]
    }
   ],
   "source": [
    "# Ques 4\n",
    "def array_operations():\n",
    "    arr = np.random.randint(1, 100, size=(6, 3)) # Create a 6x3 array of integers\n",
    "    # print(arr)\n",
    "    print(\"Original shape:\", arr.shape) # Print the shape of the original array\n",
    "    \n",
    "    reshaped_arr = arr.reshape(3, 6) #  Reshape the array to 3x6 and print the new shape\n",
    "    # print(reshaped_arr)\n",
    "    print(\"Reshaped shape:\", reshaped_arr.shape)\n",
    "    \n",
    "array_operations() # function "
   ]
  },
  {
   "cell_type": "code",
   "execution_count": 13,
   "id": "d21326a1-008c-45a1-9772-7ee04107886e",
   "metadata": {},
   "outputs": [
    {
     "name": "stdout",
     "output_type": "stream",
     "text": [
      "Size of each element (in bytes): 8\n",
      "Size of each element (in bytes): 4\n",
      "Size of each element (in bytes): 8\n"
     ]
    }
   ],
   "source": [
    "# Ques 5\n",
    "\n",
    "zero_array = np.zeros((4, 4), dtype=int)\n",
    "print(\"Size of each element (in bytes):\", zero_array.itemsize)\n",
    "\n",
    "random_array = np.random.randint(1, 11, size=(3, 3))\n",
    "print(\"Size of each element (in bytes):\", random_array.itemsize)\n",
    "\n",
    "float_array = [1.0, 2.0, 3.0]\n",
    "float_array = np.array(float_array)\n",
    "print(\"Size of each element (in bytes):\", float_array.itemsize)\n"
   ]
  },
  {
   "cell_type": "markdown",
   "id": "f2b93054-9d58-484c-942f-0a18742e24db",
   "metadata": {},
   "source": [
    "# Sorting and Partioning"
   ]
  },
  {
   "cell_type": "code",
   "execution_count": null,
   "id": "030ceb96-6620-4e95-883e-9d2995c5cbfc",
   "metadata": {},
   "outputs": [],
   "source": [
    "\"\"\"Sorting and Partioning\n",
    "1. Given an array arr, sort the array in ascending order without modifying the original array. Print both the original and sorted arrays.(use np.sort())\n",
    "2. You have arr = np.array([50, 30, 40, 20]) and names = np.array([\"A\", \"B\", \"C\", \"D\"]).\n",
    "Sort the arr values in ascending order and rearrange the names array accordingly.(use np.argsort() to get sorted indices and reorder names)\n",
    "\n",
    "3. Write code to find the k smallest elements from the array arr. Print these elements in ascending order.(use np.partition())\n",
    "4. Partition the array arr such that all elements smaller than a particular number(user input) appear before those greater than or equal to that number. Print the partitioned array.(use np.partition() to find the pivot value's index)\n",
    "5. Sort each row of a 2D array arr in ascending order.(use np.sort() with axis parameter)\n",
    "6. Print k largest elements of an array arr in descending order.(use np.partition() to find top k elements)\n",
    "7. Given an array arr(containing possible negative values), sort the array in ascending order based on the absolute values of the elements. Print the sorted array.(use np.argsort() with a custom key for absolute values)\n",
    "8. Given an array arr, sort only the elements greater than k in ascending order, keeping the other elements in their original positions.(create a mask to find elements greater than k, use np.sort() to sort them then reassign the sorted values back to their original indices in the array)\"\"\""
   ]
  },
  {
   "cell_type": "code",
   "execution_count": 31,
   "id": "d9910cc2-1c0f-4263-af44-09fd1942e38e",
   "metadata": {},
   "outputs": [
    {
     "name": "stdout",
     "output_type": "stream",
     "text": [
      "[ 2  3  4  9  6 67 42]\n",
      "[ 2  3  4  6  9 42 67]\n"
     ]
    }
   ],
   "source": [
    "# Ques 1\n",
    "arr =np.array([2,3,4,9,6,67,42])\n",
    "sorted_arr=np.sort(arr)\n",
    "print(arr)\n",
    "print(sorted_arr)"
   ]
  },
  {
   "cell_type": "code",
   "execution_count": 32,
   "id": "e8c74fc3-af1a-479c-85d7-a4c1a35e322b",
   "metadata": {},
   "outputs": [
    {
     "name": "stdout",
     "output_type": "stream",
     "text": [
      "sorted arr: [20 30 40 50]\n",
      "sorted names: ['D' 'B' 'C' 'A']\n"
     ]
    }
   ],
   "source": [
    "# Ques 2\n",
    "arr = np.array([50, 30, 40, 20])\n",
    "names = np.array([\"A\", \"B\", \"C\", \"D\"])\n",
    "sorted_indices = np.argsort(arr)\n",
    "sorted_arr = arr[sorted_indices]\n",
    "sorted_names = names[sorted_indices]\n",
    "\n",
    "print(\"sorted arr:\", sorted_arr)\n",
    "print(\"sorted names:\", sorted_names)"
   ]
  },
  {
   "cell_type": "code",
   "execution_count": 33,
   "id": "959d0b88-7ec4-4db0-9166-14b4cacbc8a8",
   "metadata": {},
   "outputs": [
    {
     "name": "stdout",
     "output_type": "stream",
     "text": [
      "[10 20 30]\n"
     ]
    }
   ],
   "source": [
    "# Ques 3\n",
    "arr = np.array([60, 30, 10, 20, 40, 50, 70])\n",
    "k = 3\n",
    "k_smallest = np.partition(arr, k)[:k]\n",
    "sorted_k_arr = np.sort(k_smallest)\n",
    "print(sorted_k_arr)"
   ]
  },
  {
   "cell_type": "code",
   "execution_count": 34,
   "id": "b7b89bf4-0ec4-4bad-a1bb-f5e2cf5a1072",
   "metadata": {},
   "outputs": [
    {
     "name": "stdin",
     "output_type": "stream",
     "text": [
      " 40\n"
     ]
    },
    {
     "name": "stdout",
     "output_type": "stream",
     "text": [
      "partitioned array [10 20 30 40 50 60 70]\n"
     ]
    }
   ],
   "source": [
    "# Ques 4\n",
    "arr = np.array([60, 30, 40, 20, 10, 70, 50])\n",
    "pivot_value = int(input())\n",
    "partitioned_arr = np.partition(arr, k)\n",
    "final_arr=np.sort(partitioned_arr)\n",
    "print(\"partitioned array\", partitioned_arr)"
   ]
  },
  {
   "cell_type": "code",
   "execution_count": 35,
   "id": "34078905-f976-46d2-9845-38d7d0e311e4",
   "metadata": {},
   "outputs": [
    {
     "name": "stdout",
     "output_type": "stream",
     "text": [
      "[[30 40 60]\n",
      " [10 20 70]\n",
      " [50 80 90]]\n"
     ]
    }
   ],
   "source": [
    "# Ques 5\n",
    "arr = np.array([[60, 30, 40], \n",
    "                [20, 10, 70], \n",
    "                [80, 50, 90]])\n",
    "sorted_arr = np.sort(arr, axis=1)\n",
    "print(sorted_arr)"
   ]
  },
  {
   "cell_type": "code",
   "execution_count": 39,
   "id": "f438b427-0311-4583-86da-5fb9404234d3",
   "metadata": {},
   "outputs": [
    {
     "name": "stdin",
     "output_type": "stream",
     "text": [
      "enter the value of K: 5\n"
     ]
    },
    {
     "name": "stdout",
     "output_type": "stream",
     "text": [
      "[10 20 30 40 50 60 70]\n",
      "[70 60 50 40 30]\n"
     ]
    }
   ],
   "source": [
    "# Ques 6\n",
    "arr = np.array([60, 30, 40, 20, 10, 70, 50])\n",
    "k = int(input(\"enter the value of K:\"))\n",
    "partitioned_arr = np.partition(arr, -k)\n",
    "print(partitioned_arr)\n",
    "top_k_elements = np.sort(partitioned_arr[-k:])[::-1]\n",
    "print(top_k_elements)"
   ]
  },
  {
   "cell_type": "markdown",
   "id": "a006aa78-8974-4ac5-806d-232a1ff55501",
   "metadata": {},
   "source": [
    "# Indexing and Slicing\n"
   ]
  },
  {
   "cell_type": "code",
   "execution_count": null,
   "id": "6bd5eaf0-a10f-4e7d-8eeb-98fa202a9777",
   "metadata": {},
   "outputs": [],
   "source": [
    "\"\"\"Indexing and slicing\n",
    "1. 2D Array Indexing\n",
    "Consider the following 2D array: arr_2d = np.array([[5, 10, 15], [20, 25, 30], [35, 40, 45]])\n",
    "\n",
    "Access the element at row index 1 and column index 2.\n",
    "Extract the first row.\n",
    "Extract the last column.\n",
    "2. Boolean Indexing\n",
    "Given an array arr = np.array([2, 5, 8, 11, 14, 17, 20]), use boolean indexing to:\n",
    "\n",
    "Extract all values greater than 10.\n",
    "Replace all values greater than 15 with -1.\n",
    "3. Fancy Indexing\n",
    "Using the 2D array arr_2d = np.array([[5, 10, 15], [20, 25, 30], [35, 40, 45]]), write code to:\n",
    "\n",
    "Select the elements at positions (0,2), (1,1), and (2,0).\n",
    "\n",
    "Use fancy indexing to create a submatrix with rows 0 and 2, and columns 1 and 2.\n",
    "\n",
    "Hint:\n",
    "\n",
    "For 1st part, use arrays of row and column indices\n",
    "For 2nd part, you can create a submatrix using fancy indexing by using np.newaxis to match the dimensions\n",
    "4. Slicing 1D array\n",
    "Given the array arr = np.array([1, 3, 5, 7, 9, 11, 13, 15]), write code to:\n",
    "\n",
    "Extract the first 4 elements.\n",
    "Extract every second element from the entire array.\n",
    "Extract elements from index 2 to the end, stepping by 2.\n",
    "5. Slicing a 2D Array\n",
    "Given the following 2D array: arr_2d = np.array([[10, 20, 30, 40], [50, 60, 70, 80], [90, 100, 110, 120]])\n",
    "\n",
    "Slice and print the last two columns of 1st row.\n",
    "Slice and print the last row, reversed.\n",
    "6. Handling Out-of-Range Indices in Slicing vs. Indexing\n",
    "Given the array: arr = np.array([10, 20, 30, 40, 50])\n",
    "\n",
    "What will be the output of the following slicing operations? Explain why they work, even though some indices are out of range.\n",
    "\n",
    "print(arr[2:10])\n",
    "print(arr[-10:3])\n",
    "Compare the behavior of slicing to accessing a single element with an out-of-range index (e.g., arr[10]). Why does slicing not raise an error in these cases, but indexing does?\n",
    "\n",
    "7. Work with an Audio File\n",
    "Download the audio file from the following link: Simple Logo - Pixabay. Load the audio file using pydub and complete the following tasks:\n",
    "\n",
    "Extract the first second of the audio and plot its waveform.\n",
    "\n",
    "Hint: Use the frame rate to calculate how many samples are in 1 second, and use slicing to extract this part.\n",
    "Extract the last second of the audio and plot its waveform.\n",
    "\n",
    "Combine the samples from the first second and the last second into a new array and plot the combined waveform.\n",
    "Hint: Use NumPy’s np.concatenate() function to merge the two slices.\"\"\""
   ]
  },
  {
   "cell_type": "code",
   "execution_count": 22,
   "id": "482b1e51-8d1a-48dc-a5de-9f53bc5bc1b3",
   "metadata": {},
   "outputs": [
    {
     "name": "stdout",
     "output_type": "stream",
     "text": [
      "Element at row index 1 and column index 2: 30\n",
      "First row: [ 5 10 15]\n",
      "Last column: [15 30 45]\n"
     ]
    }
   ],
   "source": [
    "# Ques 1\n",
    "arr_2d = np.array([[5, 10, 15], [20, 25, 30], [35, 40, 45]])\n",
    "\n",
    "element = arr_2d[1, 2]\n",
    "print(f\"Element at row index 1 and column index 2: {element}\")\n",
    "\n",
    "first_row = arr_2d[0, :]\n",
    "print(f\"First row: {first_row}\")\n",
    "\n",
    "last_column = arr_2d[:, -1]\n",
    "print(f\"Last column: {last_column}\")"
   ]
  },
  {
   "cell_type": "code",
   "execution_count": 23,
   "id": "1eb4bd91-ef09-4df1-9ec2-584d0bebc408",
   "metadata": {},
   "outputs": [
    {
     "name": "stdout",
     "output_type": "stream",
     "text": [
      "[11 14 17 20]\n",
      "[ 2  5  8 11 14 -1 -1]\n"
     ]
    }
   ],
   "source": [
    "# Ques 2\n",
    "arr = np.array([2, 5, 8, 11, 14, 17, 20])\n",
    "mask=arr>10\n",
    "values_greater_than_10 = arr[mask]\n",
    "arr[arr > 15] = -1\n",
    "print(values_greater_than_10)\n",
    "print(arr)"
   ]
  },
  {
   "cell_type": "code",
   "execution_count": 24,
   "id": "b2d0ac2c-5735-4c7b-b041-132839b3115c",
   "metadata": {},
   "outputs": [
    {
     "name": "stdout",
     "output_type": "stream",
     "text": [
      "Selected elements: [15 25 35]\n",
      "Submatrix using np.newaxis: [[10 15]\n",
      " [40 45]]\n"
     ]
    }
   ],
   "source": [
    "# Ques 3\n",
    "arr_2d = np.array([[5, 10, 15], [20, 25, 30], [35, 40, 45]])\n",
    "\n",
    "# elements at positions (0,2), (1,1), and (2,0)\n",
    "row_indices = [0, 1, 2]\n",
    "col_indices = [2, 1, 0]\n",
    "selected_elements = arr_2d[row_indices, col_indices]\n",
    "print(\"Selected elements:\",selected_elements)\n",
    "\n",
    "rows = np.array([0, 2])[:, np.newaxis]  # changing [0,2] to [[0],[2]]\n",
    "cols = np.array([1, 2])  \n",
    "submatrix = arr_2d[rows, cols] # cartition product \n",
    "print(\"Submatrix using np.newaxis:\", submatrix)"
   ]
  },
  {
   "cell_type": "code",
   "execution_count": 26,
   "id": "42354b14-bbaf-43ef-a498-bb6b02005f70",
   "metadata": {},
   "outputs": [
    {
     "name": "stdout",
     "output_type": "stream",
     "text": [
      "First 4 elements: [1 3 5 7]\n",
      "Every second element: [ 1  5  9 13]\n",
      "Elements from index 2 to the end, stepping by 2: [ 5  9 13]\n"
     ]
    }
   ],
   "source": [
    "# Ques 4\n",
    "arr = np.array([1, 3, 5, 7, 9, 11, 13, 15])\n",
    "first_4_elements = arr[:4]\n",
    "every_second_element = arr[::2]\n",
    "elements_from_2_to_end_step_2 = arr[2::2]\n",
    "print(\"First 4 elements:\", first_4_elements)\n",
    "print(\"Every second element:\", every_second_element)\n",
    "print(\"Elements from index 2 to the end, stepping by 2:\", elements_from_2_to_end_step_2)"
   ]
  },
  {
   "cell_type": "code",
   "execution_count": 71,
   "id": "24a3c4d0-4e79-472b-adfa-9af9d4221568",
   "metadata": {},
   "outputs": [
    {
     "name": "stdout",
     "output_type": "stream",
     "text": [
      "The last two columns of first row: [30 40]\n",
      "Last row reversed: [120 110 100  90]\n"
     ]
    }
   ],
   "source": [
    "# Ques 5\n",
    "arr_2d = np.array([[10, 20, 30, 40], [50, 60, 70, 80], [90, 100, 110, 120]])\n",
    "\n",
    "last_two_column = arr_2d[0, -2:]\n",
    "print(\"The last two columns of first row:\",last_two_column)\n",
    "\n",
    "last_row_reversed = arr_2d[-1, ::-1]\n",
    "print(\"Last row reversed:\", last_row_reversed)\n"
   ]
  },
  {
   "cell_type": "code",
   "execution_count": 30,
   "id": "221835cb-85bc-4def-98e7-dd1870421828",
   "metadata": {},
   "outputs": [
    {
     "name": "stdout",
     "output_type": "stream",
     "text": [
      "array range from 2 to 10: [30 40 50]\n",
      "array range from -10 to 3: [10 20 30]\n"
     ]
    }
   ],
   "source": [
    "# Ques 6\n",
    "arr = np.array([10, 20, 30, 40, 50])\n",
    "print(\"array range from 2 to 10:\",arr[2:10])\n",
    "print(\"array range from -10 to 3:\",arr[-10:3])\n",
    "#In NumPy, slicing allows us to extract a part of an array by specifying a range of indices. When the indices are out of range, NumPy handles it differently compared to accessing an element using an index. For example, in the operation `arr[2:10]` with `arr = np.array([10, 20, 30, 40, 50])`, the start index is `2`, which refers to the element `30`, and the end index is `10`. Since the array has only 5 elements, the end index `10` is out of range. However, NumPy does not raise an error in this case. Instead, it simply returns all elements from index `2` to the end of the array, resulting in `[30, 40, 50]`.\n",
    "#Similarly, in the slicing operation `arr[-10:3]`, the start index `-10` is out of range and refers to a position before the array begins. Negative indices count from the end of the array, and in this case, `-10` is beyond the start of the array. NumPy treats this as `0`, meaning it starts at the first element of the array. The end index `3` refers to the element at index `3`, which is `40`. Therefore, the result of `arr[-10:3]` is `[10, 20, 30]`.\n",
    "#The reason NumPy behaves this way is that slicing is designed to be to be used for extracting subarrays or views of the original array without requiring strict bounds checking. If the end index exceeds the size of the array, NumPy simply returns all elements up to the end, ensuring that you don’t lose data. Similarly, when negative indices are used and exceed the beginning of the array, NumPy treats them as `0` to avoid errors. This flexibility allows for cleaner and more efficient code, especially when working with dynamic or unknown array sizes.\n",
    "#In contrast, indexing (e.g., `arr[10]`) is used to access a single element at a specific index. In this case, the index must be valid, and if it is out of range, NumPy raises an `IndexError` because there is no element at that index. Indexing expects an exact location, so an out-of-bounds index is considered an error."
   ]
  },
  {
   "cell_type": "code",
   "execution_count": 3,
   "id": "3c0ac366",
   "metadata": {},
   "outputs": [
    {
     "name": "stdout",
     "output_type": "stream",
     "text": [
      "[-1  2 -3  4 -5  6 -7]\n"
     ]
    }
   ],
   "source": [
    "#ques7\n",
    "arr = np.array([-7, 4, -3, 2, -5, 6, -1])\n",
    "\n",
    "sorted_indices = np.argsort(np.abs(arr))\n",
    "sorted_array = arr[sorted_indices]\n",
    "\n",
    "print(sorted_array)\n"
   ]
  },
  {
   "cell_type": "code",
   "execution_count": 4,
   "id": "5019e9f8",
   "metadata": {},
   "outputs": [
    {
     "name": "stdout",
     "output_type": "stream",
     "text": [
      "[ 6  3  7  2  8  9  1 10]\n"
     ]
    }
   ],
   "source": [
    "#ques8\n",
    "arr = np.array([10, 3, 7, 2, 8, 6, 1, 9])\n",
    "k = 5\n",
    "\n",
    "mask = arr > k\n",
    "greater_than_k = arr[mask]\n",
    "sorted_greater = np.sort(greater_than_k)\n",
    "arr[mask] = sorted_greater\n",
    "\n",
    "print(arr)\n"
   ]
  },
  {
   "cell_type": "markdown",
   "id": "edfc4674-b203-4ad5-85b8-9bb6d016781e",
   "metadata": {},
   "source": [
    "# Reshaping in NumPy\n"
   ]
  },
  {
   "cell_type": "code",
   "execution_count": null,
   "id": "ebaa221d-16ea-4585-8b66-81243754d85c",
   "metadata": {},
   "outputs": [],
   "source": [
    "\"\"\"Reshaping in NumPy\n",
    "1. Create a 2D array of shape (3, 5). Flatten it into a 1D array and then reshape it back into a (5, 3) array.\n",
    "2. Create a 1D array\n",
    "arr = np.array([1, 2, 3, 4, 5])\n",
    "Reshape arr into (5,1), then convert to (5,) and then convert it into (1,5).\n",
    "3. Create a 1D NumPy array with values ranging from 1 to 100. Reshape it into a (10, 10) matrix. Apply '.ravel()' and '.flatten()' on the matrix and modify the original matrix. Compare the outputs of both methods and explain the difference in memory sharing.\n",
    "4. Generate a 5x5 NumPy matrix representing pixel intensities from an image. Use slicing to extract the central 3x3 section of the matrix and flatten it. How does reshaping impact the spatial relationships of the pixels?\n",
    "5. Create a 3-channel RGB image as a NumPy array of shape (3, 4, 4) with random integer values between 0 and 255. Flatten the image using '.reshape()' and reshape it back to its original shape. Explain the order of pixel data stored and how reshaping affects the channel structure.\"\"\""
   ]
  },
  {
   "cell_type": "code",
   "execution_count": 40,
   "id": "fe438e2f-a7d2-4611-8965-000065dfb294",
   "metadata": {},
   "outputs": [
    {
     "name": "stdout",
     "output_type": "stream",
     "text": [
      "Original 2D array:\n",
      " [[ 1  2  3  4  5]\n",
      " [ 6  7  8  9 10]\n",
      " [11 12 13 14 15]]\n",
      "Flattened 1D array:\n",
      " [ 1  2  3  4  5  6  7  8  9 10 11 12 13 14 15]\n",
      "Reshaped array (5, 3):\n",
      " [[ 1  2  3]\n",
      " [ 4  5  6]\n",
      " [ 7  8  9]\n",
      " [10 11 12]\n",
      " [13 14 15]]\n"
     ]
    }
   ],
   "source": [
    "# Ques 1\n",
    "array_2d = np.arange(1, 16).reshape(3, 5)\n",
    "array_1d = array_2d.flatten()\n",
    "reshaped_array = array_1d.reshape(5, 3)\n",
    "print(\"Original 2D array:\\n\", array_2d)\n",
    "print(\"Flattened 1D array:\\n\", array_1d)\n",
    "print(\"Reshaped array (5, 3):\\n\", reshaped_array)"
   ]
  },
  {
   "cell_type": "code",
   "execution_count": 42,
   "id": "3d3794a2-932b-4526-9a18-53b4e6cfbe45",
   "metadata": {},
   "outputs": [
    {
     "name": "stdout",
     "output_type": "stream",
     "text": [
      "Reshaped into (5, 1):\n",
      " [[1]\n",
      " [2]\n",
      " [3]\n",
      " [4]\n",
      " [5]]\n",
      "Converted back to (5,):\n",
      " [1 2 3 4 5]\n",
      "Reshaped into (1, 5):\n",
      " [[1 2 3 4 5]]\n"
     ]
    }
   ],
   "source": [
    "# Ques 2\n",
    "arr = np.array([1, 2, 3, 4, 5])\n",
    "reshaped_5_1 = arr.reshape(5, 1)\n",
    "reshaped_5 = reshaped_5_1.reshape(5,)\n",
    "reshaped_1_5 = reshaped_5.reshape(1, 5)\n",
    "\n",
    "print(\"Reshaped into (5, 1):\\n\", reshaped_5_1)\n",
    "print(\"Converted back to (5,):\\n\", reshaped_5)\n",
    "print(\"Reshaped into (1, 5):\\n\", reshaped_1_5)\n"
   ]
  },
  {
   "cell_type": "code",
   "execution_count": 43,
   "id": "e32b92f6-525d-4763-8da9-5b5db3af3d09",
   "metadata": {},
   "outputs": [
    {
     "name": "stdout",
     "output_type": "stream",
     "text": [
      "Output of .ravel(): [  1 999   3   4   5   6   7   8   9  10  11  12  13  14  15  16  17  18\n",
      "  19  20  21  22  23  24  25  26  27  28  29  30  31  32  33  34  35  36\n",
      "  37  38  39  40  41  42  43  44  45  46  47  48  49  50  51  52  53  54\n",
      "  55  56  57  58  59  60  61  62  63  64  65  66  67  68  69  70  71  72\n",
      "  73  74  75  76  77  78  79  80  81  82  83  84  85  86  87  88  89  90\n",
      "  91  92  93  94  95  96  97  98  99 100]\n",
      "Output of .flatten(): [  1   2   3   4   5   6   7   8   9  10  11  12  13  14  15  16  17  18\n",
      "  19  20  21  22  23  24  25  26  27  28  29  30  31  32  33  34  35  36\n",
      "  37  38  39  40  41  42  43  44  45  46  47  48  49  50  51  52  53  54\n",
      "  55  56  57  58  59  60  61  62  63  64  65  66  67  68  69  70  71  72\n",
      "  73  74  75  76  77  78  79  80  81  82  83  84  85  86  87  88  89  90\n",
      "  91  92  93  94  95  96  97  98  99 100]\n",
      "Modified Matrix:\n",
      " [[  1 999   3   4   5   6   7   8   9  10]\n",
      " [ 11  12  13  14  15  16  17  18  19  20]\n",
      " [ 21  22  23  24  25  26  27  28  29  30]\n",
      " [ 31  32  33  34  35  36  37  38  39  40]\n",
      " [ 41  42  43  44  45  46  47  48  49  50]\n",
      " [ 51  52  53  54  55  56  57  58  59  60]\n",
      " [ 61  62  63  64  65  66  67  68  69  70]\n",
      " [ 71  72  73  74  75  76  77  78  79  80]\n",
      " [ 81  82  83  84  85  86  87  88  89  90]\n",
      " [ 91  92  93  94  95  96  97  98  99 100]]\n"
     ]
    }
   ],
   "source": [
    "# Ques 3\n",
    "array_1d = np.arange(1, 101)\n",
    "matrix_10x10 = array_1d.reshape(10, 10)\n",
    "ravel_output = matrix_10x10.ravel()\n",
    "flatten_output = matrix_10x10.flatten()\n",
    "matrix_10x10[0, 1] = 999\n",
    "\n",
    "print(\"Output of .ravel():\", ravel_output)\n",
    "print(\"Output of .flatten():\", flatten_output)\n",
    "print(\"Modified Matrix:\\n\", matrix_10x10)\n",
    "#The .ravel() method flattens the matrix into a 1D array, but it shares the memory with the original array. Any changes to the original matrix will reflect in this array.\n",
    "#The .flatten() method also flattens the matrix into a 1D array, but it creates a new copy. Changes to the original matrix will not affect this array."
   ]
  },
  {
   "cell_type": "markdown",
   "id": "52f73175-7ed5-4d44-acd4-fd98f398fe5e",
   "metadata": {},
   "source": [
    "# Universal Functions"
   ]
  },
  {
   "cell_type": "code",
   "execution_count": null,
   "id": "dda13187-af48-4ff2-b514-563c88a1b259",
   "metadata": {},
   "outputs": [],
   "source": [
    "\"\"\"Universal Functions\n",
    "Q1) Given an array x = [1, 4, 9, 16, 25], compute the square root of each element in the array and print the result.\n",
    "\n",
    "Q2) Create an array angles =[0,  π2 ,  π ,  3π2 ] , calculate the sine of each angle and print the result.\n",
    "\n",
    "Q3) Given two arrays a =[True, False, True] and b = [False, False, True], perform an element-wise logical AND operation and print the result.\n",
    "\n",
    "Q4) Create two arrays x = [1, 2, 3, 4] and y = [2, 2, 3, 5], perform an element-wise comparison (x < y) and print the result.\n",
    "\n",
    "Q5) Create an array x =[-2, -1, 0, 1, 2, 3, 4], compute the following element-wise operation:\n",
    "\n",
    "If an element is negative, square it.\n",
    "If an element is non-negative, compute its exponential. Print the resulting array.\"\"\""
   ]
  },
  {
   "cell_type": "code",
   "execution_count": 73,
   "id": "9d9adc20-a12e-4716-a208-8eac7b7e4063",
   "metadata": {},
   "outputs": [
    {
     "name": "stdout",
     "output_type": "stream",
     "text": [
      "[1. 2. 3. 4. 5.]\n"
     ]
    }
   ],
   "source": [
    "# Ques 1\n",
    "arr_x = np.array([1, 4, 9, 16, 25])\n",
    "sqroot_arr = arr_x ** (1/2)\n",
    "print(sqroot_arr)"
   ]
  },
  {
   "cell_type": "code",
   "execution_count": 82,
   "id": "cfcda111-919b-4879-9983-1573f37de874",
   "metadata": {},
   "outputs": [
    {
     "name": "stdout",
     "output_type": "stream",
     "text": [
      "Sine of each angle: [ 0.  1.  0. -1.]\n"
     ]
    }
   ],
   "source": [
    "# Ques 2\n",
    "angles = np.array([0, np.pi/2, np.pi, 3*np.pi/2])\n",
    "sine_result = np.sin(angles)\n",
    "print(\"Sine of each angle:\", np.round(sine_result, 2))"
   ]
  },
  {
   "cell_type": "code",
   "execution_count": 84,
   "id": "2f5ef6a2-2cc0-4a4d-bef1-a14422197082",
   "metadata": {},
   "outputs": [
    {
     "name": "stdout",
     "output_type": "stream",
     "text": [
      "element-wise logical AND operation: [False False  True]\n"
     ]
    }
   ],
   "source": [
    "# Ques 3\n",
    "boolean_arr1 = [True, False, True]\n",
    "boolean_arr2 = [False, False, True]\n",
    "and_result = np.logical_and(boolean_arr1,boolean_arr2)\n",
    "print(\"element-wise logical AND operation:\",and_result)"
   ]
  },
  {
   "cell_type": "code",
   "execution_count": 44,
   "id": "d577761c-d0b4-4097-9d5c-4ebd49dbf8ae",
   "metadata": {},
   "outputs": [
    {
     "name": "stdout",
     "output_type": "stream",
     "text": [
      "[ True False False  True]\n"
     ]
    }
   ],
   "source": [
    "# Ques 4\n",
    "x = np.array([1, 2, 3, 4])\n",
    "y = np.array([2, 2, 3, 5])\n",
    "result = x < y\n",
    "print(result)"
   ]
  },
  {
   "cell_type": "code",
   "execution_count": 90,
   "id": "f77550f0-1c9e-4395-969e-9bb72586aa6a",
   "metadata": {},
   "outputs": [
    {
     "name": "stdout",
     "output_type": "stream",
     "text": [
      "Element-wise operation result: [ 4.    1.    1.    2.72  7.39 20.09 54.6 ]\n"
     ]
    }
   ],
   "source": [
    "# Ques 5\n",
    "x = np.array([-2, -1, 0, 1, 2, 3, 4])\n",
    "\n",
    "operation_result = np.where(x < 0, x**2, np.exp(x))\n",
    "\n",
    "print(\"Element-wise operation result:\",np.round(operation_result, 2))"
   ]
  },
  {
   "cell_type": "markdown",
   "id": "ad72954b-c74e-459b-bac6-3aa70e620610",
   "metadata": {},
   "source": [
    "# Aggregations\n"
   ]
  },
  {
   "cell_type": "code",
   "execution_count": 46,
   "id": "ee56e12d-cadc-463d-abc4-2d9b44b47dbd",
   "metadata": {},
   "outputs": [
    {
     "name": "stdout",
     "output_type": "stream",
     "text": [
      "Array: [11 32 62 95 62 70 69 56 47  3]\n",
      "sum : 507\n",
      "mean : 50.7\n",
      "standard deviation : 26.773307602909284\n",
      "result : -270\n"
     ]
    }
   ],
   "source": [
    "#question 1----------> \n",
    "\n",
    "arr = np.random.randint(1, 100, 10)\n",
    "print(\"Array:\", arr)\n",
    "\n",
    "sum_arr = np.sum(arr)\n",
    "print(f\"sum : {sum_arr}\")\n",
    "\n",
    "mean_arr = np.mean(arr)\n",
    "print(f\"mean : {mean_arr}\")\n",
    "\n",
    "std_dev_arr = np.std(arr)\n",
    "print(f\"standard deviation : {std_dev_arr}\")\n",
    "\n",
    "result = 5 * np.min(arr) - 3 * np.max(arr)\n",
    "print(f\"result : {result}\")"
   ]
  },
  {
   "cell_type": "code",
   "execution_count": 47,
   "id": "174a0386-8cb8-4c51-8b75-ff8a4a94da9a",
   "metadata": {},
   "outputs": [
    {
     "name": "stdout",
     "output_type": "stream",
     "text": [
      "[[48  5 17 30 34]\n",
      " [18 10 45 34  9]\n",
      " [ 2 21 17 35 22]\n",
      " [20 23 35 29  5]]\n",
      "22.95\n",
      "[134 116  97 112]\n"
     ]
    }
   ],
   "source": [
    "#question2 ----------------->\n",
    "\n",
    "matrix = np.random.randint(1, 51, size=(4, 5))\n",
    "print(matrix)\n",
    "mean = np.mean(matrix)\n",
    "print(mean)\n",
    "sumrow = np.sum(matrix, axis=1)\n",
    "print(sumrow)"
   ]
  },
  {
   "cell_type": "code",
   "execution_count": 48,
   "id": "86db7555-6c11-447a-9311-0a62b6570a79",
   "metadata": {},
   "outputs": [
    {
     "name": "stdout",
     "output_type": "stream",
     "text": [
      "[[5 8 7]\n",
      " [5 2 7]\n",
      " [2 7 2]]\n",
      "[2 2 2]\n",
      "[8 7 7]\n",
      "Minimum of list max - Maximum of list min: 5\n"
     ]
    }
   ],
   "source": [
    "#question3---------------------->\n",
    "\n",
    "matrix = np.random.randint(1, 11, size=(3, 3))\n",
    "print(matrix)\n",
    "mincol = np.min(matrix, axis=0)\n",
    "print(mincol)\n",
    "maxrow = np.max(matrix, axis=1)\n",
    "print( maxrow)\n",
    "result = np.min(maxrow) - np.max(mincol)\n",
    "print(\"Minimum of list max - Maximum of list min:\", result)"
   ]
  },
  {
   "cell_type": "code",
   "execution_count": 49,
   "id": "52e7636f-7d14-4dd8-8ef9-5d19f644ce35",
   "metadata": {},
   "outputs": [
    {
     "name": "stdout",
     "output_type": "stream",
     "text": [
      "15\n",
      "[ 0 10 20 30 40 50]\n",
      "25.0\n"
     ]
    }
   ],
   "source": [
    "#question4 ------------------------>\n",
    "\n",
    "data = np.array([15, 25, 35, 45, 55, 65])\n",
    "minval = np.min(data)\n",
    "print( minval)\n",
    "modified_data = data - minval\n",
    "print(modified_data)\n",
    "meanmod = np.mean(modified_data)\n",
    "print(meanmod)"
   ]
  },
  {
   "cell_type": "code",
   "execution_count": 50,
   "id": "32940fd0-94ae-447e-bcd7-1337d252cd1b",
   "metadata": {},
   "outputs": [
    {
     "name": "stdout",
     "output_type": "stream",
     "text": [
      "[ 3  8 15 24 35]\n",
      "[    3    15   105   945 10395]\n"
     ]
    }
   ],
   "source": [
    "#question5------------------>\n",
    "\n",
    "arr = np.array([3, 5, 7, 9, 11])\n",
    "cumulativesum = np.cumsum(arr) \n",
    "print(cumulativesum)\n",
    "cumulativeprod = np.cumprod(arr)\n",
    "print(cumulativeprod)"
   ]
  },
  {
   "cell_type": "code",
   "execution_count": 51,
   "id": "0a713565-9d1b-404b-b685-fafd94543c5a",
   "metadata": {},
   "outputs": [
    {
     "name": "stdout",
     "output_type": "stream",
     "text": [
      "[85.         86.33333333 87.33333333 82.66666667]\n",
      "[91 92 95]\n",
      "85.33333333333333\n"
     ]
    }
   ],
   "source": [
    "#question6--------------------->\n",
    "\n",
    "scores = np.array([[85, 92, 78], [88, 76, 95], [91, 89, 82], [75, 85, 88]])\n",
    "avg_score_stu = np.mean(scores, axis=1)\n",
    "print(avg_score_stu)\n",
    "high_score_per_sub = np.max(scores, axis=0)\n",
    "print(high_score_per_sub)\n",
    "tot_avg_score = np.mean(scores)\n",
    "print(tot_avg_score)"
   ]
  },
  {
   "cell_type": "markdown",
   "id": "bfba7830-e65e-4365-a3bd-8f6c130a98a0",
   "metadata": {},
   "source": [
    "# Broadcasting"
   ]
  },
  {
   "cell_type": "code",
   "execution_count": 52,
   "id": "bf0d4133-ce01-44e0-acc8-a44972c01b88",
   "metadata": {},
   "outputs": [
    {
     "name": "stdout",
     "output_type": "stream",
     "text": [
      "Resulting Array:\n",
      " [[11 22 33]\n",
      " [14 25 36]\n",
      " [17 28 39]]\n",
      "Shape of the Resulting Array: (3, 3)\n"
     ]
    }
   ],
   "source": [
    "#ques1\n",
    "import numpy as np\n",
    "A = np.array([[1, 2, 3], [4, 5, 6], [7, 8, 9]])\n",
    "B = np.array([10, 20, 30])\n",
    "result = A + B\n",
    "print(\"Resulting Array:\\n\", result)\n",
    "print(\"Shape of the Resulting Array:\", result.shape)\n"
   ]
  },
  {
   "cell_type": "code",
   "execution_count": 53,
   "id": "edab8766-cc18-47bb-b0fa-83c938dc53c6",
   "metadata": {},
   "outputs": [
    {
     "name": "stdout",
     "output_type": "stream",
     "text": [
      "Shapes (3, 4) and (4,) are broadcast-compatible. Resulting shape: (3, 4)\n",
      "Shapes (2, 1, 5) and (3, 5) are broadcast-compatible. Resulting shape: (2, 3, 5)\n",
      "Shapes (2, 3) and (2,) cannot be broadcast.\n"
     ]
    }
   ],
   "source": [
    "#ques2\n",
    "def check_broadcasting(shape1, shape2):\n",
    "    try:\n",
    "        np.broadcast(np.empty(shape1), np.empty(shape2))\n",
    "        result_shape = np.broadcast(np.empty(shape1), np.empty(shape2)).shape\n",
    "        return (True, result_shape)\n",
    "    except ValueError:\n",
    "        return (False, None)\n",
    "test_cases = [\n",
    "    ((3, 4), (4,)),\n",
    "    ((2, 1, 5), (3, 5)),\n",
    "    ((2, 3), (2,))\n",
    "]\n",
    "\n",
    "for shape1, shape2 in test_cases:\n",
    "    can_broadcast, result_shape = check_broadcasting(shape1, shape2)\n",
    "    if can_broadcast:\n",
    "        print(f\"Shapes {shape1} and {shape2} are broadcast-compatible. Resulting shape: {result_shape}\")\n",
    "    else:\n",
    "        print(f\"Shapes {shape1} and {shape2} cannot be broadcast.\")\n"
   ]
  },
  {
   "cell_type": "code",
   "execution_count": 54,
   "id": "57b0e631-d74a-4ffa-b333-db62e27b3e3d",
   "metadata": {},
   "outputs": [
    {
     "name": "stdout",
     "output_type": "stream",
     "text": [
      "Array A:\n",
      " [[ 8  9  3  9  8]\n",
      " [ 1  7 10  8  9]\n",
      " [ 1  9 10  5  2]]\n",
      "Array B:\n",
      " [4 4 5 3 1]\n",
      "Result of A - B:\n",
      " [[ 4  5 -2  6  7]\n",
      " [-3  3  5  5  8]\n",
      " [-3  5  5  2  1]]\n"
     ]
    }
   ],
   "source": [
    "#ques3\n",
    "A = np.random.randint(1, 11, size=(3, 5))\n",
    "B = np.random.randint(1, 6, size=(5,))\n",
    "result = A - B\n",
    "print(\"Array A:\\n\", A)\n",
    "print(\"Array B:\\n\", B)\n",
    "print(\"Result of A - B:\\n\", result)\n"
   ]
  },
  {
   "cell_type": "code",
   "execution_count": 55,
   "id": "1b653075-e04b-4c94-ad81-6e8e0b74a54e",
   "metadata": {},
   "outputs": [
    {
     "name": "stdout",
     "output_type": "stream",
     "text": [
      "Array A (3D):\n",
      " [[[ 9  6  9]\n",
      "  [ 9  9 10]\n",
      "  [ 0  1  7]\n",
      "  [ 2  0  2]]\n",
      "\n",
      " [[ 8  2  8]\n",
      "  [ 7  0  2]\n",
      "  [10 10  9]\n",
      "  [ 8  1  3]]]\n",
      "Array B (2D):\n",
      " [[5 5 5]\n",
      " [5 5 5]\n",
      " [5 5 5]\n",
      " [5 5 5]]\n",
      "Result of A + B:\n",
      " [[[14 11 14]\n",
      "  [14 14 15]\n",
      "  [ 5  6 12]\n",
      "  [ 7  5  7]]\n",
      "\n",
      " [[13  7 13]\n",
      "  [12  5  7]\n",
      "  [15 15 14]\n",
      "  [13  6  8]]]\n"
     ]
    }
   ],
   "source": [
    "#ques4\n",
    "A = np.random.randint(0, 11, size=(2, 4, 3))\n",
    "B = np.full((4, 3), 5)\n",
    "result = A + B\n",
    "print(\"Array A (3D):\\n\", A)\n",
    "print(\"Array B (2D):\\n\", B)\n",
    "print(\"Result of A + B:\\n\", result)\n"
   ]
  },
  {
   "cell_type": "code",
   "execution_count": 56,
   "id": "f7041be2-1d47-4aad-ac17-6a2df032790d",
   "metadata": {},
   "outputs": [
    {
     "name": "stdout",
     "output_type": "stream",
     "text": [
      "Original Image:\n",
      " [[ 35  58  98 ...  54 199 174]\n",
      " [139 112   0 ... 203  37  72]\n",
      " [ 45 217  74 ...  38 166 204]\n",
      " ...\n",
      " [151  57 180 ...   9  97 147]\n",
      " [ 70  87 114 ... 246 124  42]\n",
      " [228 190 186 ...  62 182  59]]\n",
      "Scaled Image:\n",
      " [[ 17.5  29.   49.  ...  27.   99.5  87. ]\n",
      " [ 69.5  56.    0.  ... 101.5  18.5  36. ]\n",
      " [ 22.5 108.5  37.  ...  19.   83.  102. ]\n",
      " ...\n",
      " [ 75.5  28.5  90.  ...   4.5  48.5  73.5]\n",
      " [ 35.   43.5  57.  ... 123.   62.   21. ]\n",
      " [114.   95.   93.  ...  31.   91.   29.5]]\n"
     ]
    }
   ],
   "source": [
    "#ques5\n",
    "image = np.random.randint(0, 256, size=(32, 32))\n",
    "scaled_image = image * 0.5\n",
    "print(\"Original Image:\\n\", image)\n",
    "print(\"Scaled Image:\\n\", scaled_image)\n"
   ]
  },
  {
   "cell_type": "code",
   "execution_count": 57,
   "id": "82ffa625-cbfc-4a8c-8672-d6324cd12570",
   "metadata": {},
   "outputs": [
    {
     "name": "stdout",
     "output_type": "stream",
     "text": [
      "Index of the closest code: 4\n",
      "Squared Euclidean distance to the closest code: 2.0\n",
      "Euclidean distance to the closest code: 1.4142135623730951\n"
     ]
    }
   ],
   "source": [
    "#ques6\n",
    "codes = np.array([[1.0, 2.0, 3.0], [4.0, 5.0, 6.0], [7.0, 8.0, 9.0], [1.0, 1.0, 1.0], [2.0, 3.0, 4.0]])\n",
    "observation = np.array([3.0, 3.0, 3.0])\n",
    "\n",
    "distances_squared = np.sum((codes - observation) ** 2, axis=1)\n",
    "closest_index = np.argmin(distances_squared)\n",
    "closest_distance_squared = distances_squared[closest_index]\n",
    "closest_distance = np.sqrt(closest_distance_squared)\n",
    "\n",
    "print(f\"Index of the closest code: {closest_index}\")\n",
    "print(f\"Squared Euclidean distance to the closest code: {closest_distance_squared}\")\n",
    "print(f\"Euclidean distance to the closest code: {closest_distance}\")\n"
   ]
  },
  {
   "cell_type": "markdown",
   "id": "128a3d57-6c9b-4735-8ea8-7eedf1259032",
   "metadata": {},
   "source": [
    "# Concatenation"
   ]
  },
  {
   "cell_type": "code",
   "execution_count": 58,
   "id": "ed144b8f-f15b-4ed8-bf7d-82eca98a8249",
   "metadata": {},
   "outputs": [
    {
     "name": "stdout",
     "output_type": "stream",
     "text": [
      "[[15 45 34]\n",
      " [23 34 24]\n",
      " [76 32 12]]\n"
     ]
    }
   ],
   "source": [
    "#question1------------------->\n",
    "\n",
    "arr1 = np.array([15, 45,34])\n",
    "arr2 = np.array([23,34,24])\n",
    "arr3 = np.array([76,32,12])\n",
    "result = np.vstack((arr1, arr2, arr3))\n",
    "print(result)"
   ]
  },
  {
   "cell_type": "code",
   "execution_count": 59,
   "id": "6324d680-74a1-44ad-bd8c-2245e61c9b21",
   "metadata": {},
   "outputs": [
    {
     "name": "stdout",
     "output_type": "stream",
     "text": [
      "[1 2 3 4 5 6 7 8 9]\n"
     ]
    }
   ],
   "source": [
    "#question2 -------------->\n",
    "\n",
    "arr1 = np.array([1, 2, 3])\n",
    "arr2 = np.array([4, 5, 6])\n",
    "arr3 = np.array([7, 8, 9])\n",
    "result = np.hstack((arr1, arr2, arr3))\n",
    "print(result)"
   ]
  },
  {
   "cell_type": "code",
   "execution_count": 60,
   "id": "8d0169b8-39b7-4c79-854a-054d07f9f0b7",
   "metadata": {},
   "outputs": [
    {
     "name": "stdout",
     "output_type": "stream",
     "text": [
      "[[ 2  4  4  8]\n",
      " [ 3  6  5 10]]\n"
     ]
    }
   ],
   "source": [
    "#question3----------------->\n",
    "\n",
    "m = np.array([[2, 4], [3, 6]])\n",
    "n = np.array([[4, 8], [5, 10]])\n",
    "result = np.hstack((m, n))\n",
    "print(result)"
   ]
  },
  {
   "cell_type": "code",
   "execution_count": 61,
   "id": "94dd2dca-b9f9-462e-820a-322fdf827334",
   "metadata": {},
   "outputs": [
    {
     "name": "stdout",
     "output_type": "stream",
     "text": [
      "[[11 12 13]\n",
      " [14 15 16]\n",
      " [17 18 19]]\n"
     ]
    }
   ],
   "source": [
    "#question4----------------->\n",
    "\n",
    "a = np.array([11, 12, 13])\n",
    "b = np.array([[14, 15, 16], [17, 18, 19]])\n",
    "aree = a.reshape(1, -1)\n",
    "result = np.vstack((aree, b))\n",
    "print(result)"
   ]
  },
  {
   "cell_type": "code",
   "execution_count": 62,
   "id": "1dfba093-badd-4503-8ca9-fee1388553a3",
   "metadata": {},
   "outputs": [
    {
     "name": "stdout",
     "output_type": "stream",
     "text": [
      "[[ 1  2]\n",
      " [ 3  4]\n",
      " [ 5  6]\n",
      " [ 7  8]\n",
      " [ 9 10]\n",
      " [11 12]]\n",
      "[[ 1  2  5  6  9 10]\n",
      " [ 3  4  7  8 11 12]]\n"
     ]
    }
   ],
   "source": [
    "#question5------------------->\n",
    "\n",
    "x = np.array([[1, 2], [3, 4]])\n",
    "y = np.array([[5, 6], [7, 8]])\n",
    "z = np.array([[9, 10], [11, 12]])\n",
    "concatcol = np.concatenate((x, y, z), axis=0)\n",
    "print(concatcol)\n",
    "concatrow = np.concatenate((x, y, z), axis=1)\n",
    "print(concatrow)"
   ]
  },
  {
   "cell_type": "markdown",
   "id": "6afca91b-5a5a-481b-918d-3efaded5351a",
   "metadata": {},
   "source": [
    "# Boolean Masking"
   ]
  },
  {
   "cell_type": "code",
   "execution_count": 63,
   "id": "53ec286f-acd0-4c89-9547-66533f4fcdef",
   "metadata": {},
   "outputs": [
    {
     "name": "stdout",
     "output_type": "stream",
     "text": [
      "[1 3 5 2 4]\n"
     ]
    }
   ],
   "source": [
    "#question1 -------------->\n",
    "\n",
    "arr = np.array([1, 3, 5, 7, 9, 2, 4, 8])\n",
    "filter_arr = arr[arr <= 5]\n",
    "print(filter_arr)"
   ]
  },
  {
   "cell_type": "code",
   "execution_count": 64,
   "id": "d93f091f-3d8e-4e36-88dd-8c24b513d301",
   "metadata": {},
   "outputs": [
    {
     "name": "stdout",
     "output_type": "stream",
     "text": [
      "[12 18 11 14]\n"
     ]
    }
   ],
   "source": [
    "#question2--------------->\n",
    "\n",
    "arr = np.array([[5, 12, 18], [7, 1, 3], [11, 6, 14]])\n",
    "maskitem = arr[arr>10]\n",
    "print(maskitem)"
   ]
  },
  {
   "cell_type": "code",
   "execution_count": 65,
   "id": "3306bf94-b35e-44e8-a8cf-cd5115668ee1",
   "metadata": {},
   "outputs": [
    {
     "name": "stdout",
     "output_type": "stream",
     "text": [
      "[1 3 5 7 9]\n"
     ]
    }
   ],
   "source": [
    "#question3------------>\n",
    "\n",
    "arr = np.arange(11)\n",
    "mask = arr%2!=0\n",
    "odd_arr = arr[mask]\n",
    "print(odd_arr)"
   ]
  },
  {
   "cell_type": "code",
   "execution_count": 66,
   "id": "fd5164a3-2f1a-453a-a907-82dd16c2636e",
   "metadata": {},
   "outputs": [
    {
     "name": "stdout",
     "output_type": "stream",
     "text": [
      "[ 6  9 12 15]\n"
     ]
    }
   ],
   "source": [
    "#question4------------>\n",
    "\n",
    "arr = np.array([1, 3, 6, 9, 12, 15])\n",
    "mask_great5 = arr>5\n",
    "mask_div3 = arr%3==0\n",
    "comb_mask = mask_great5 & mask_div3\n",
    "comb_arr = arr[comb_mask]\n",
    "print(comb_arr)"
   ]
  },
  {
   "cell_type": "code",
   "execution_count": 67,
   "id": "c1068156-1e7f-46c2-8f03-a041c2cb8279",
   "metadata": {},
   "outputs": [
    {
     "name": "stdout",
     "output_type": "stream",
     "text": [
      "[[0 7 0]\n",
      " [9 0 5]\n",
      " [6 0 8]]\n"
     ]
    }
   ],
   "source": [
    "#question5------------>\n",
    "\n",
    "arr = np.array([[1, 7, 3], [9, 4, 5], [6, 2, 8]])\n",
    "mask = arr < 5\n",
    "arr[mask] = 0\n",
    "print(arr)"
   ]
  },
  {
   "cell_type": "code",
   "execution_count": 68,
   "id": "98522f1a-168f-4ec5-82bc-fcd1e72b5a06",
   "metadata": {},
   "outputs": [
    {
     "name": "stdout",
     "output_type": "stream",
     "text": [
      "5\n"
     ]
    }
   ],
   "source": [
    "#question6------------>\n",
    "\n",
    "arr = np.array([1, 3, 6, 9, 12, 15, 4, 2, 8])\n",
    "mask = arr > 5\n",
    "modarr = arr[mask]\n",
    "count = np.size(modarr)\n",
    "# count = np.sum(mask)\n",
    "print(count)"
   ]
  },
  {
   "cell_type": "code",
   "execution_count": null,
   "id": "6c364f75-39e2-4b36-9e89-8b17065e9637",
   "metadata": {},
   "outputs": [],
   "source": []
  }
 ],
 "metadata": {
  "kernelspec": {
   "display_name": "Python 3 (ipykernel)",
   "language": "python",
   "name": "python3"
  },
  "language_info": {
   "codemirror_mode": {
    "name": "ipython",
    "version": 3
   },
   "file_extension": ".py",
   "mimetype": "text/x-python",
   "name": "python",
   "nbconvert_exporter": "python",
   "pygments_lexer": "ipython3",
   "version": "3.10.9"
  }
 },
 "nbformat": 4,
 "nbformat_minor": 5
}
